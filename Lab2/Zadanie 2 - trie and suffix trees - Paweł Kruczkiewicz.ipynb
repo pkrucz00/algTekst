{
 "cells": [
  {
   "cell_type": "markdown",
   "metadata": {},
   "source": [
    "# Pattern maching - wyszukiwanie wzorców\n",
    "## Paweł Kruczkiewicz\n",
    "#### 17.03.2021 r.\n",
    "\n",
    "### Treść\n",
    "Celem zadania jest zapoznanie się z konstrukcjami trie oraz drzewem sufiksów.\n",
    "    \n",
    "1. Przyjmij następujący zbiór danych wejściowych:\n",
    "    1. bbbd\n",
    "    2. aabbabd\n",
    "    3. ababcd\n",
    "    4. abcbccd\n",
    "    5. oraz załączony plik.\n",
    "2. Upewnij się, że każdy łańcuch na końcu posiada unikalny znak (marker), a jeśli go nie ma, to dodaj ten znak.\n",
    "3. Zaimplementuj algorytm konstruujący strukturę trie, która przechowuje wszystkie sufiksy łańcucha danego na wejściu.\n",
    "4. Zaimplementuj algorytm konstruujący drzewo sufiksów.\n",
    "5. Upewnij się, że powstałe struktury danych są poprawne. Możesz np. sprawdzić, czy struktura zawiera jakiś ciąg znaków i porównać wyniki z algorytmem wyszukiwania wzorców.\n",
    "6. Porównaj szybkość działania algorytmów konstruujących struktury danych dla danych z p. 1 w następujących wariantach:\n",
    "    1. Trie (1 pkt)\n",
    "    2. Drzewo sufiksów bez wykorzystania procedury fast_find oraz elementów \"link\" (2 pkt)\n",
    "7. Oczekiwany wynik ćwiczenia to kod źródłowy oraz raport w formie PDF.\n",
    "8. *Dla zinteresowanych:* implementacja i testy z wykorzystaniem procedury fast_find oraz elementów \"link\" w drzewie sufiksowym (+2 pkt)."
   ]
  },
  {
   "cell_type": "markdown",
   "metadata": {},
   "source": [
    "## Ad. 1 i 2\n",
    "Dane wejściowe dodajemy do listy wszystkich możliwyh słów (`texts`), a następnie dodajemy znak `$` na koniec każdego wyrazu"
   ]
  },
  {
   "cell_type": "code",
   "execution_count": 3,
   "metadata": {},
   "outputs": [
    {
     "name": "stdout",
     "output_type": "stream",
     "text": [
      "['bbbd\\ue000', 'aabbabd\\ue000', 'ababcd\\ue000', 'abcbccd\\ue000', '\\n    Dz.U. z 1998 r. Nr 144, poz. 930\\n                                       \\n                                       \\n                                       \\n                                       \\n                                    USTAWA\\n                          z dnia 20 listopada 1998 r.\\n                                       \\n         o zryczałtowanym podatku dochodowym od niektórych przychodów\\n                        osiąganych przez osoby fizyczne\\n                                       \\n                                  Rozdział 1\\n                                Przepisy ogólne\\n                                       \\n                                    Art. 1.\\nUstawa reguluje opodatkowanie zryczałtowanym podatkiem dochodowym niektórych\\nprzychodów (dochodów) osiąganych przez osoby fizyczne prowadzące pozarolniczą\\ndziałalność gospodarczą oraz przez osoby duchowne.\\n                                       \\n                                    Art. 2.\\n1. Osoby fizyczne osiągające przychody z pozarolniczej działalności\\n  gospodarczej opłacają zryczałtowany podatek dochodowy w formie:\\n   1) ryczałtu od przychodów ewidencjonowanych,\\n   2) karty podatkowej.\\n2. Osoby duchowne, prawnie uznanych wyznań, opłacają zryczałtowany podatek\\n  dochodowy od przychodów osób duchownych.\\n3. Wpływy z podatku dochodowego opłacanego w formie ryczałtu od przychodów\\n  ewidencjonowanych oraz zryczałtowanego podatku dochodowego od przychodów\\n  osób duchownych stanowią dochód budżetu państwa.\\n4. Wpływy z karty podatkowej stanowią dochody gmin.\\n                                       \\n                                    Art. 3.\\nPrzychodów (dochodów) opodatkowanych w formach zryczałtowanych nie łączy się z\\nprzychodami (dochodami) z innych źródeł podlegającymi opodatkowaniu na\\npodstawie ustawy z dnia 26 lipca 1991 r. o podatku dochodowym od osób\\nfizycznych (Dz. U. z 1993 r. Nr 90, poz. 416 i Nr 134, poz. 646, z 1994 r. Nr\\n43, poz. 163, Nr 90, poz. 419, Nr 113, poz. 547, Nr 123, poz. 602 i Nr 126,\\npoz. 626, z 1995 r. Nr 5, poz. 25 i Nr 133, poz. 654, z 1996 r. Nr 25, poz.\\n113, Nr 87, poz. 395, Nr 137, poz. 638, Nr 147, poz. 686 i Nr 156, poz. 776, z\\n1997 r. Nr 28, poz. 153, Nr 30, poz. 164, Nr 71, poz. 449, Nr 85, poz. 538, Nr\\n96, poz. 592, Nr 121, poz. 770, Nr 123, poz. 776, Nr 137, poz. 926, Nr 139,\\npoz. 932-934 i Nr 141, poz. 943 i 945 oraz z 1998 r. Nr 66, poz. 430, Nr 74,\\npoz. 471, Nr 108, poz. 685 i Nr 117, poz. 756), zwanej dalej \"ustawą o podatku\\ndochodowym\".\\n\\ue000']\n"
     ]
    }
   ],
   "source": [
    "texts = [\"bbbd\", \"aabbabd\", \"ababcd\", \"abcbccd\"]\n",
    "text_from_the_file = '''\n",
    "    Dz.U. z 1998 r. Nr 144, poz. 930\n",
    "                                       \n",
    "                                       \n",
    "                                       \n",
    "                                       \n",
    "                                    USTAWA\n",
    "                          z dnia 20 listopada 1998 r.\n",
    "                                       \n",
    "         o zryczałtowanym podatku dochodowym od niektórych przychodów\n",
    "                        osiąganych przez osoby fizyczne\n",
    "                                       \n",
    "                                  Rozdział 1\n",
    "                                Przepisy ogólne\n",
    "                                       \n",
    "                                    Art. 1.\n",
    "Ustawa reguluje opodatkowanie zryczałtowanym podatkiem dochodowym niektórych\n",
    "przychodów (dochodów) osiąganych przez osoby fizyczne prowadzące pozarolniczą\n",
    "działalność gospodarczą oraz przez osoby duchowne.\n",
    "                                       \n",
    "                                    Art. 2.\n",
    "1. Osoby fizyczne osiągające przychody z pozarolniczej działalności\n",
    "  gospodarczej opłacają zryczałtowany podatek dochodowy w formie:\n",
    "   1) ryczałtu od przychodów ewidencjonowanych,\n",
    "   2) karty podatkowej.\n",
    "2. Osoby duchowne, prawnie uznanych wyznań, opłacają zryczałtowany podatek\n",
    "  dochodowy od przychodów osób duchownych.\n",
    "3. Wpływy z podatku dochodowego opłacanego w formie ryczałtu od przychodów\n",
    "  ewidencjonowanych oraz zryczałtowanego podatku dochodowego od przychodów\n",
    "  osób duchownych stanowią dochód budżetu państwa.\n",
    "4. Wpływy z karty podatkowej stanowią dochody gmin.\n",
    "                                       \n",
    "                                    Art. 3.\n",
    "Przychodów (dochodów) opodatkowanych w formach zryczałtowanych nie łączy się z\n",
    "przychodami (dochodami) z innych źródeł podlegającymi opodatkowaniu na\n",
    "podstawie ustawy z dnia 26 lipca 1991 r. o podatku dochodowym od osób\n",
    "fizycznych (Dz. U. z 1993 r. Nr 90, poz. 416 i Nr 134, poz. 646, z 1994 r. Nr\n",
    "43, poz. 163, Nr 90, poz. 419, Nr 113, poz. 547, Nr 123, poz. 602 i Nr 126,\n",
    "poz. 626, z 1995 r. Nr 5, poz. 25 i Nr 133, poz. 654, z 1996 r. Nr 25, poz.\n",
    "113, Nr 87, poz. 395, Nr 137, poz. 638, Nr 147, poz. 686 i Nr 156, poz. 776, z\n",
    "1997 r. Nr 28, poz. 153, Nr 30, poz. 164, Nr 71, poz. 449, Nr 85, poz. 538, Nr\n",
    "96, poz. 592, Nr 121, poz. 770, Nr 123, poz. 776, Nr 137, poz. 926, Nr 139,\n",
    "poz. 932-934 i Nr 141, poz. 943 i 945 oraz z 1998 r. Nr 66, poz. 430, Nr 74,\n",
    "poz. 471, Nr 108, poz. 685 i Nr 117, poz. 756), zwanej dalej \"ustawą o podatku\n",
    "dochodowym\".\n",
    "'''\n",
    "texts.append(text_from_the_file)\n",
    "    \n",
    "texts = list(map(lambda x: x + '\\uE000', texts))\n",
    "print(texts)"
   ]
  },
  {
   "cell_type": "markdown",
   "metadata": {},
   "source": [
    "## Ad. 3 - konstrukcja drzewa trie\n",
    "\n",
    "Drzewo będziemy przechowywać w specjalnej klasie `Trie`. Każdy węzeł przechowujemy w klasie `Node`, w której oprócz dzieci będzie zapamiętywany rodzic. To się ponoć przydaje w fast-findzie, więc na wszelki wypadek to tutaj zostawię, ale nie mam pojęcia po co to jest"
   ]
  },
  {
   "cell_type": "code",
   "execution_count": 4,
   "metadata": {},
   "outputs": [],
   "source": [
    "class Node:\n",
    "    def __init__(self, parent):\n",
    "        self.parent = parent\n",
    "        self.children = dict()\n",
    "        \n",
    "class Trie:\n",
    "    def __init__(self, text):\n",
    "        self.root = Node(None)\n",
    "        self.break_sign = '$'\n",
    "        for i in range(len(text)):\n",
    "            curr_suffix = text[i:]\n",
    "            head, index = self.find(curr_suffix)\n",
    "            self.graft(head, curr_suffix[index:])\n",
    "\n",
    "    def find(self, text):\n",
    "        curr_node = self.root\n",
    "        i = 0\n",
    "        while i < len(text) and text[i] in curr_node.children:\n",
    "            curr_node = curr_node.children[text[i]]\n",
    "            i += 1\n",
    "        return curr_node, i\n",
    "\n",
    "    def graft(self, node, text):\n",
    "        for ch in text:\n",
    "            new_node = Node(node)  # creating new node with node as a parent\n",
    "            node.children[ch] = new_node  # adding new node to children of current node\n",
    "            node = new_node\n",
    "\n",
    "    def search(self, substring):  #we don't count the $ sign at the end\n",
    "        found_node, index = self.find(substring)\n",
    "        return found_node.children != {} and index == len(substring)\n",
    "\n",
    "    def print_trie(self, node=None):\n",
    "        if node is None:  node = self.root\n",
    "        print(node.children)\n",
    "        for child in node.children.values():\n",
    "            self.print_trie(child)"
   ]
  },
  {
   "cell_type": "code",
   "execution_count": 5,
   "metadata": {},
   "outputs": [
    {
     "name": "stdout",
     "output_type": "stream",
     "text": [
      "<__main__.Trie object at 0x0000026622FD0048>\n",
      "True\n"
     ]
    }
   ],
   "source": [
    "trie = Trie(texts[0]) \n",
    "print(trie)\n",
    "print(trie.search('bd'))\n"
   ]
  },
  {
   "cell_type": "markdown",
   "metadata": {},
   "source": [
    "## Ad. 4\n",
    "Implementacja drzewa sufiksów"
   ]
  },
  {
   "cell_type": "code",
   "execution_count": 6,
   "metadata": {},
   "outputs": [],
   "source": [
    "class SuffixTreeNode:\n",
    "    def __init__(self, start, end):\n",
    "        self.start = start\n",
    "        self.end = end\n",
    "        self.children = dict()\n",
    "        # elf.start_index = start_index\n",
    "\n",
    "\n",
    "class SuffixTree:\n",
    "    def __init__(self, text):\n",
    "        self.root = SuffixTreeNode(0, len(text) - 1)\n",
    "        self.full_text = text\n",
    "        for i in range(len(text) - 1):\n",
    "            curr_suff = text[i:]\n",
    "            head, depth = self.slow_find(curr_suff)\n",
    "            self.graft(head, depth, i)\n",
    "\n",
    "    def graft(self, head, depth, i):\n",
    "        new_node = SuffixTreeNode(depth + i, len(self.full_text) - 1)\n",
    "        head.children[self.full_text[new_node.start]] = new_node\n",
    "\n",
    "    def slow_find(self, text, depth=0, curr_node=None):  # return head; depth - length of the longest prefix of text\n",
    "        # in suffix tree\n",
    "        if curr_node is None: curr_node = self.root\n",
    "\n",
    "        first_letter = text[0]\n",
    "        next_node = curr_node.children.get(first_letter)\n",
    "\n",
    "        if next_node is None:\n",
    "            return curr_node, depth\n",
    "        start, end = next_node.start, next_node.end\n",
    "        childs_text_len = end - start + 1\n",
    "        for i in range(1, childs_text_len):\n",
    "            if self.full_text[start + i] != text[i]:\n",
    "                return self.break_path(i, curr_node, next_node), depth + i\n",
    "        return self.slow_find(text[childs_text_len:], depth + childs_text_len, next_node)\n",
    "\n",
    "    def break_path(self, index, parent_node, next_node):\n",
    "        old_start, old_end = next_node.start, next_node.end\n",
    "        break_node = SuffixTreeNode(old_start, old_start + index - 1)\n",
    "        next_node.start = old_start + index\n",
    "\n",
    "        parent_node.children[self.full_text[break_node.start]] = break_node #wskazanie po literce na nowy node\n",
    "        break_node.children[self.full_text[next_node.start]] = next_node  # wskazanie po literce na dotychczasowy node\n",
    "        return break_node\n",
    "    \n",
    "    def search(self, substring, curr_node=None):\n",
    "        if len(substring) == 0:\n",
    "            return True\n",
    "\n",
    "        if curr_node is None:\n",
    "            curr_node = self.root\n",
    "\n",
    "        first_letter = substring[0]\n",
    "        next_node = curr_node.children.get(first_letter)\n",
    "        if next_node is None:\n",
    "            return False\n",
    "\n",
    "        childs_text_len = next_node.end - next_node.start + 1\n",
    "        for i in range(1, childs_text_len):\n",
    "            if i == len(substring):\n",
    "                return True\n",
    "            if self.full_text[next_node.start + i] != substring[i]:\n",
    "                return False\n",
    "\n",
    "        return self.search(substring[childs_text_len:], next_node)\n",
    "        "
   ]
  },
  {
   "cell_type": "markdown",
   "metadata": {},
   "source": [
    "## Ad. 5 - sprawdzenie poprawności obu struktur\n",
    "Odpalając poniższą komórkę należy się liczyć z tym, że wyliczanie jej zajmie trochę czasu.\n",
    "Ze względu na dużą złożoność przeszukiwania i tworzenia struktury Trie - ostatniego tekstu nie zbadano"
   ]
  },
  {
   "cell_type": "code",
   "execution_count": 7,
   "metadata": {},
   "outputs": [
    {
     "name": "stdout",
     "output_type": "stream",
     "text": [
      "Zakończono testy konstrukcji i wyszukiwania Trie. 0 błędów\n",
      "Zakończono testy konstrukcji i przeszukiwania SuffixTree. 0 błędów\n"
     ]
    }
   ],
   "source": [
    "err_acc = 0\n",
    "invalid_texts = [\"xkcd\", \"abdc\", \"adc\", \"cda\"]\n",
    "for text in texts[:-1]:\n",
    "    trie = Trie(text)\n",
    "    for i in range(0, len(text)):\n",
    "        for j in range(i, len(text)):\n",
    "            if not trie.search(text[i:j]):\n",
    "                err_acc += 1\n",
    "                \n",
    "for text in invalid_texts:\n",
    "    if trie.search(text):\n",
    "        err_acc += 1\n",
    "\n",
    "print(f\"Zakończono testy konstrukcji i wyszukiwania Trie. {err_acc} błędów\")\n",
    "\n",
    "err_acc = 0\n",
    "for text in texts:\n",
    "    sTree = SuffixTree(text)\n",
    "    for i in range(0, len(text)):\n",
    "        for j in range(i, len(text)):\n",
    "            if not sTree.search(text[i:j]):\n",
    "                err_acc += 1\n",
    "\n",
    "for text in invalid_texts:\n",
    "    if sTree.search(text):\n",
    "        err_acc += 1\n",
    "        \n",
    "print(f\"Zakończono testy konstrukcji i przeszukiwania SuffixTree. {err_acc} błędów\")"
   ]
  },
  {
   "cell_type": "markdown",
   "metadata": {},
   "source": [
    "## Ad. 6\n",
    "Testy czasowe"
   ]
  },
  {
   "cell_type": "code",
   "execution_count": 8,
   "metadata": {},
   "outputs": [
    {
     "name": "stdout",
     "output_type": "stream",
     "text": [
      "Czas konstrukcji Trie dla tekstu nr 1: 0.0 [s]\n",
      "Czas przeszukiwania tekstu \"abcd\" w Trie skonstruowanym dla tekstu nr 1: 0.0 [s]\n",
      "Czas konstrukcji Trie dla tekstu nr 2: 0.0 [s]\n",
      "Czas przeszukiwania tekstu \"abcd\" w Trie skonstruowanym dla tekstu nr 2: 0.0 [s]\n",
      "Czas konstrukcji Trie dla tekstu nr 3: 0.0 [s]\n",
      "Czas przeszukiwania tekstu \"abcd\" w Trie skonstruowanym dla tekstu nr 3: 0.0 [s]\n",
      "Czas konstrukcji Trie dla tekstu nr 4: 0.0 [s]\n",
      "Czas przeszukiwania tekstu \"abcd\" w Trie skonstruowanym dla tekstu nr 4: 0.0 [s]\n",
      "Czas konstrukcji Trie dla tekstu nr 5: 6.200201 [s]\n",
      "Czas przeszukiwania tekstu \"abcd\" w Trie skonstruowanym dla tekstu nr 5: 0.0 [s]\n",
      "\n",
      "Czas konstrukcji SuffixTree dla tekstu nr 1: 0.0 [s]\n",
      "Czas przeszukiwania tekstu \"abcd\" w SuffixTree skonstruowanym dla tekstu nr 1: 0.0 [s]\n",
      "Czas konstrukcji SuffixTree dla tekstu nr 2: 0.0 [s]\n",
      "Czas przeszukiwania tekstu \"abcd\" w SuffixTree skonstruowanym dla tekstu nr 2: 0.0 [s]\n",
      "Czas konstrukcji SuffixTree dla tekstu nr 3: 0.0 [s]\n",
      "Czas przeszukiwania tekstu \"abcd\" w SuffixTree skonstruowanym dla tekstu nr 3: 0.0 [s]\n",
      "Czas konstrukcji SuffixTree dla tekstu nr 4: 0.0 [s]\n",
      "Czas przeszukiwania tekstu \"abcd\" w SuffixTree skonstruowanym dla tekstu nr 4: 0.0 [s]\n",
      "Czas konstrukcji SuffixTree dla tekstu nr 5: 0.028275 [s]\n",
      "Czas przeszukiwania tekstu \"abcd\" w SuffixTree skonstruowanym dla tekstu nr 5: 0.0 [s]\n"
     ]
    }
   ],
   "source": [
    "import time\n",
    "\n",
    "def check_time(structure):\n",
    "    for i, text in enumerate(texts):\n",
    "        a = time.time()\n",
    "        textObject = structure(text)\n",
    "        b = time.time()\n",
    "        print(f'Czas konstrukcji {structure.__name__} dla tekstu nr {i+1}: {round(b-a, 6)} [s]')\n",
    "\n",
    "        a = time.time()\n",
    "        textObject.search(\"abcd\")\n",
    "        b = time.time()\n",
    "        print(f'Czas przeszukiwania tekstu \"abcd\" w {structure.__name__} skonstruowanym dla tekstu nr {i+1}: {round(b-a, 4)} [s]')\n",
    "    \n",
    "check_time(Trie)\n",
    "print()\n",
    "check_time(SuffixTree)"
   ]
  },
  {
   "cell_type": "markdown",
   "metadata": {},
   "source": [
    "Jak widać struktura drzewa sufiksów jest o wiele szybsza, zajmuje również zdecydowanie mniej pamięci. Jednak dla czasu wyszukiwania małych wzorców nie ma większej różnicy między jedną a drugą strukturą.\n",
    "Ciągle lepiej jest jednak używać drzew sufiksowych, ponieważ nie zabierają one tak dużo miejsca w pamięci komputera."
   ]
  },
  {
   "cell_type": "code",
   "execution_count": null,
   "metadata": {},
   "outputs": [],
   "source": []
  }
 ],
 "metadata": {
  "kernelspec": {
   "display_name": "Python 3",
   "language": "python",
   "name": "python3"
  },
  "language_info": {
   "codemirror_mode": {
    "name": "ipython",
    "version": 3
   },
   "file_extension": ".py",
   "mimetype": "text/x-python",
   "name": "python",
   "nbconvert_exporter": "python",
   "pygments_lexer": "ipython3",
   "version": "3.7.6"
  }
 },
 "nbformat": 4,
 "nbformat_minor": 4
}
