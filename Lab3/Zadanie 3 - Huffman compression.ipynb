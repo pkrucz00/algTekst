{
 "cells": [
  {
   "cell_type": "markdown",
   "metadata": {},
   "source": [
    "# Pattern maching - wyszukiwanie wzorców\n",
    "## Paweł Kruczkiewicz\n",
    "#### 31.03.2021 r.\n",
    "\n",
    "### Treść\n",
    "Zadanie polega na implementacji dwóch algorytmów kompresji:\n",
    "\n",
    "1. statycznego algorytmu Huffmana (1 punkt)\n",
    "2. dynamicznego algorytmu Huffmana (2 punkty)\n",
    "\n",
    "Dla każdego z algorytmów należy wykonać następujące zadania:\n",
    "\n",
    "1. Opracować format pliku przechowującego dane.\n",
    "2. Zaimplementować algorytm kompresji i dekompresji danych dla tego formatu pliku.\n",
    "3. Zmierzyć współczynnik kompresji (wyrażone w procentach: 1 - plik_skompresowany / plik_nieskompresowany) dla plików tekstowych o rozmiarach: 1kB, 10kB, 100kB, 1MB, dla różnych typów plików: plik tekstowy z portalu Guttenberga, plik źródłowy z Githubu, plik ze znakami losowanymi z rozkładu jednostajnego.\n",
    "4. Zmierzyć czas kompresji i dekompresji dla plików z punktu 3 dla każdego algorytmu.\n",
    "\n",
    "Zadanie dla chętnych:\n",
    "Zaimplementować dowolny algorytm ze zmiennym blokiem kompresji, który uzyska lepszy współczynnik kompresji na większości danych wejściowych, niż algorytmy Huffmana  (+2 punkty)."
   ]
  },
  {
   "cell_type": "markdown",
   "metadata": {},
   "source": [
    "## Implementacje\n",
    "### Kod Huffmana statyczny\n",
    "**Tworzenie drzewa**"
   ]
  },
  {
   "cell_type": "code",
   "execution_count": 6,
   "metadata": {},
   "outputs": [],
   "source": [
    "from collections import deque\n",
    "from math import inf\n",
    "\n",
    "\n",
    "class Internal_node:\n",
    "    def __init__(self, weight, left, right):\n",
    "        self.weight = weight\n",
    "        self.left = left\n",
    "        self.right = right\n",
    "\n",
    "        \n",
    "class Leaf:\n",
    "    def __init__(self, weight, letter):\n",
    "        self.weight = weight\n",
    "        self.letter = letter\n",
    "    \n",
    "    \n",
    "def count_weights(text):\n",
    "    result = dict()\n",
    "    for c in text:\n",
    "        val = resul.get(c, 0)\n",
    "        result[c] = val + 1\n",
    "    return result\n",
    "        \n",
    "\n",
    "def smallest_two_elems(deq1, deq2):\n",
    "    result = []\n",
    "    while len(result) < 2:\n",
    "        smallest1 = smallest2 = inf\n",
    "        if len(deq1):\n",
    "            smallest1 = deq1[0]\n",
    "        if len(deq2):\n",
    "            smallest2 = deq2[0]\n",
    "            \n",
    "        if smallest1.weight < smallest2.weight:\n",
    "            result.append(deq1.popleft())\n",
    "        else:\n",
    "            result.append(deq2.popleft())\n",
    "        \n",
    "    return tuple(result)\n",
    "    \n",
    "\n",
    "def static_huffman(letter_count):\n",
    "    n = len(letter_count)\n",
    "    \n",
    "    leaves = [Leaf(sign, weight) for sign, weight in letter_count.items()]\n",
    "    leaves.sort(key=lambda x: x.weight)\n",
    "    d_leaves = deque(leafs)\n",
    "    \n",
    "    internal_nodes = deque()\n",
    "    \n",
    "    for _ in range(n-1):\n",
    "        elem1, elem2 = smallest_two_elems(leaves, internal_nodes)\n",
    "        internal_nodes.append(Internal_Node(elem1, elem2, elem1.weight+elem2.weight))\n",
    "    \n",
    "    return internal_nodes[-1]  # == root"
   ]
  },
  {
   "cell_type": "markdown",
   "metadata": {},
   "source": [
    "**Kodowanie**\n"
   ]
  },
  {
   "cell_type": "code",
   "execution_count": 8,
   "metadata": {},
   "outputs": [],
   "source": [
    "def is_instance(obj, class_name):\n",
    "    return obj.__class__.__name__ == class_name\n",
    "\n",
    "\n",
    "def give_dict(node, result, acc=\"\"):\n",
    "    if is_instance(node, \"Leaf\"):\n",
    "        dict[node.letter] = acc\n",
    "    \n",
    "    if is_instance(node, \"Internal_node\"):\n",
    "        give_dict(node.left, result, acc + \"0\")\n",
    "        give_dict(node.right, result, acc + \"1\")\n",
    "        \n",
    "def encode(text):\n",
    "    weight_dict = count_weights(text)\n",
    "    huff_tree_root = static_huffman(weight_dict)\n",
    "    code_dict = dict()\n",
    "    give_dict(huff_tree_root, code_dict)\n",
    "        \n",
    "    "
   ]
  },
  {
   "cell_type": "code",
   "execution_count": null,
   "metadata": {},
   "outputs": [],
   "source": []
  }
 ],
 "metadata": {
  "kernelspec": {
   "display_name": "Python 3",
   "language": "python",
   "name": "python3"
  },
  "language_info": {
   "codemirror_mode": {
    "name": "ipython",
    "version": 3
   },
   "file_extension": ".py",
   "mimetype": "text/x-python",
   "name": "python",
   "nbconvert_exporter": "python",
   "pygments_lexer": "ipython3",
   "version": "3.7.6"
  }
 },
 "nbformat": 4,
 "nbformat_minor": 4
}
