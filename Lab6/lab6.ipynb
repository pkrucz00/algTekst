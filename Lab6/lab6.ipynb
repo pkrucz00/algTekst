{
 "cells": [
  {
   "cell_type": "markdown",
   "metadata": {},
   "source": [
    "# Zadanie nr 6\n",
    "**Termin: 28 maja 2021 23:59**\n",
    "\n",
    "Instrukcje\n",
    "\n",
    "Wzorce dwuwymiarowe:\n",
    "   1. Zaimplementuj algorytm wyszukiwania wzorca 2-wymiarowego\n",
    "   2. Znajdź w załączonym pliku \"haystack.txt\" wszyskie sytuacje, gdy taka sama litera występuje na tej samej pozycji w dwóch kolejnych linijkach. Zwróć uwagę, na nierówną długość linii w pliku.\n",
    "   3. Znajdź wszystkie wystąpienia \"th\" oraz \"t h\" w dwóch kolejnych liniach na tej samej pozycji.\n",
    "   4. Wybierz przynajmniej 3 litery (małe). Znajdź wszystkie wystąpienia tej litery w załączonym pliku \"haystack.png\"\n",
    "   5. Znajdź wszystkie wystąpienia słowa \"p a t t e r n\" w haystack.png.\n",
    "   6. Porównaj czas budowania automatu i czas wyszukiwania dla różnych rozmiarów wzorca\n",
    "   7. Podziel plik na 2, 4 i 8 fragmentów (w poziomie) i porównaj czas przeszukiwania\n",
    "\n",
    "    Załączone wzorce to fragmenty książki \"Jewels of Stringology\"."
   ]
  },
  {
   "cell_type": "markdown",
   "metadata": {},
   "source": [
    "**Wczytywanie obrazów**"
   ]
  },
  {
   "cell_type": "code",
   "execution_count": 1,
   "metadata": {},
   "outputs": [],
   "source": [
    "from PIL import Image\n",
    "import numpy as np"
   ]
  },
  {
   "cell_type": "code",
   "execution_count": 2,
   "metadata": {
    "scrolled": true
   },
   "outputs": [],
   "source": [
    "def load_image(image_path):\n",
    "    im = Image.open(image_path)\n",
    "    np_im = np.array(im)\n",
    "    arr_2d = np_im[:,:, 0]\n",
    "    return np.where(arr_2d > 100, 1, 0)"
   ]
  },
  {
   "cell_type": "markdown",
   "metadata": {},
   "source": [
    "**Wczytanie linii z  pliku**"
   ]
  },
  {
   "cell_type": "code",
   "execution_count": 3,
   "metadata": {},
   "outputs": [],
   "source": [
    "with open(\"haystack.txt\", \"r\", encoding=\"UTF-8\") as file:\n",
    "    lines = file.readlines()\n",
    "    lines = list(map(lambda line: line.lower(), lines))\n"
   ]
  },
  {
   "cell_type": "markdown",
   "metadata": {},
   "source": [
    "## Zad 1"
   ]
  },
  {
   "cell_type": "markdown",
   "metadata": {},
   "source": [
    "**Algorytm tworzenia i przeszukiwania Aho-Corasick**"
   ]
  },
  {
   "cell_type": "code",
   "execution_count": 4,
   "metadata": {},
   "outputs": [],
   "source": [
    "from queue import Queue\n",
    "\n",
    "\n",
    "class Node:\n",
    "    def __init__(self, parent=None, letter=None, fail_node=None, state_num=0):\n",
    "        self.parent = parent\n",
    "        self.letter = letter  # letter by which the parent connects to the child\n",
    "        self.children = dict()\n",
    "        self.fail_node = fail_node\n",
    "        self.state_num = state_num  # state_num > 0 indicate accepting state\n",
    "\n",
    "\n",
    "class AhoCorasickAutomata:\n",
    "    def __init__(self, patterns_list):\n",
    "        self.root = Node()\n",
    "        for curr_suffix in patterns_list:\n",
    "            head, index = self.find(curr_suffix)\n",
    "            self.graft(head, curr_suffix[index:])\n",
    "\n",
    "        # To this point trie is built, we need to make fail_nodes now\n",
    "        self.add_state_nums(patterns_list)\n",
    "        self.add_fail_nodes()\n",
    "\n",
    "    def find(self, text):\n",
    "        curr_node = self.root\n",
    "        i = 0\n",
    "        while i < len(text) and text[i] in curr_node.children:\n",
    "            curr_node = curr_node.children[text[i]]\n",
    "            i += 1\n",
    "        return curr_node, i\n",
    "\n",
    "    def graft(self, node, text):\n",
    "        for ch in text:\n",
    "            new_node = Node(node, ch, self.root)  # creating new node with node as a parent\n",
    "            node.children[ch] = new_node  # adding new node to children of current node\n",
    "            node = new_node\n",
    "\n",
    "    def search(self, substring):  # we don't count the $ sign at the end\n",
    "        found_node, index = self.find(substring)\n",
    "        return found_node.children == {} and index == len(substring)\n",
    "\n",
    "    def add_fail_nodes(self):\n",
    "        queue = Queue()\n",
    "        queue.put(self.root)\n",
    "\n",
    "        while not queue.empty():\n",
    "            node = queue.get()\n",
    "            if node != self.root and node.parent != self.root:\n",
    "                parent_node, letter = node.parent, node.letter\n",
    "                curr_fail = parent_node.fail_node\n",
    "                while curr_fail != parent_node and letter not in parent_node.children:\n",
    "                    curr_fail = curr_fail.fail_node\n",
    "                if letter in curr_fail.children:\n",
    "                    node.fail_node = curr_fail.children[letter]\n",
    "\n",
    "            for letter, child_node in node.children.items():\n",
    "                queue.put(child_node)\n",
    "\n",
    "    def add_state_nums(self, list_of_patterns):\n",
    "        acc, already_seen = 0, set()\n",
    "        patterns = list(map(lambda arr: tuple(arr), list_of_patterns))\n",
    "        for pattern in patterns:\n",
    "            if pattern not in already_seen:\n",
    "                node = self.root\n",
    "                for character in pattern:\n",
    "                    node = node.children[character]\n",
    "                acc += 1\n",
    "                node.state_num = acc\n",
    "                already_seen.add(pattern)\n",
    "\n",
    "    def traverse_line(self, elem_list):  # elem_list: int list, returns int list\n",
    "        state = self.root\n",
    "        result = []\n",
    "        for elem in elem_list:\n",
    "            while state is not None and elem not in state.children:\n",
    "                state = state.fail_node\n",
    "            if state is None:\n",
    "                state = self.root\n",
    "            else:\n",
    "                state = state.children[elem]\n",
    "            result.append(state.state_num)\n",
    "        return result\n",
    "\n",
    "    def print_aho_corasick(self, node=None):\n",
    "        if node is None:  node = self.root\n",
    "        print(f\"Curr node={node.state_num}\")\n",
    "        print(f\"Fail_node={node.fail_node.state_num}\")\n",
    "        for child in node.children.values():\n",
    "            self.print_aho_corasick(child)"
   ]
  },
  {
   "cell_type": "markdown",
   "metadata": {},
   "source": [
    "**Algorytm KMP**"
   ]
  },
  {
   "cell_type": "code",
   "execution_count": 5,
   "metadata": {},
   "outputs": [],
   "source": [
    "def compute_pi(pattern):\n",
    "    m = len(pattern)\n",
    "    pi = [0 for _ in range(m)]\n",
    "    k = 0\n",
    "    for q in range(1, m):\n",
    "        while k > 0 and pattern[k] != pattern[q]:\n",
    "            k = pi[k-1]\n",
    "        if pattern[k] == pattern[q]:\n",
    "            k += 1\n",
    "        pi[q] = k\n",
    "    return pi\n",
    "\n",
    "def pattern_matching_KMP(word, pattern, pi = None):\n",
    "    result = []\n",
    "    n, m, q = len(word), len(pattern), 0\n",
    "    if pi is None: pi = compute_pi(pattern)\n",
    "        \n",
    "    for i in range(n):\n",
    "        while q > 0 and pattern[q] != word[i]:\n",
    "            q = pi[q-1]\n",
    "        if pattern[q] == word[i]:\n",
    "            q += 1\n",
    "        if q == m:\n",
    "            result.append(i - q + 1)\n",
    "            q = pi[q-1]\n",
    "    return result"
   ]
  },
  {
   "cell_type": "markdown",
   "metadata": {},
   "source": [
    "**Wyszukiwanie wzorców 2-d**"
   ]
  },
  {
   "cell_type": "code",
   "execution_count": 6,
   "metadata": {},
   "outputs": [
    {
     "data": {
      "text/plain": [
       "[(0, 0)]"
      ]
     },
     "execution_count": 6,
     "metadata": {},
     "output_type": "execute_result"
    }
   ],
   "source": [
    "def find_2d_pattern(elem_2d_list, patterns_list, aho_corasick=None):\n",
    "    def pattern_to_int_list():\n",
    "        acc, already_seen = 0, dict()\n",
    "        result = []\n",
    "        patterns = list(map(lambda arr: tuple(arr), patterns_list))\n",
    "        for pattern in patterns:\n",
    "            if pattern not in already_seen:\n",
    "                acc += 1\n",
    "                already_seen[pattern] = acc\n",
    "            result.append(already_seen[pattern])\n",
    "        return result\n",
    "\n",
    "    def divide_column_into_words(no_col, low_threshold, n):\n",
    "        result = {}\n",
    "        i = 0\n",
    "        while i < n:\n",
    "            start = i\n",
    "            new_word = []\n",
    "            while i < n and no_col < len(matched_patterns_array[i]):\n",
    "                new_word.append(matched_patterns_array[i][no_col])\n",
    "                i += 1\n",
    "            if len(new_word) >= low_threshold:\n",
    "                result[start] = new_word\n",
    "            i += 1\n",
    "        return result\n",
    "\n",
    "    n, m = len(elem_2d_list), len(patterns_list)\n",
    "    pattern_len = len(patterns_list[0])\n",
    "    aho_corasick = aho_corasick if aho_corasick is not None else AhoCorasickAutomata(patterns_list) \n",
    "    matched_patterns_array = [aho_corasick.traverse_line(line) for line in elem_2d_list]\n",
    "    pattern_to_find = pattern_to_int_list()\n",
    "    max_line_len = max([len(line) for line in elem_2d_list])\n",
    "    \n",
    "\n",
    "    result = []\n",
    "    for i in range(max_line_len):\n",
    "        words_in_column = divide_column_into_words(i, m, n)\n",
    "        for row_num, word in words_in_column.items():\n",
    "            matched_2d_patterns = pattern_matching_KMP(word, pattern_to_find)\n",
    "            for relative_row_num in matched_2d_patterns:\n",
    "                pattern_position = (row_num + relative_row_num, i - pattern_len+1)\n",
    "                result.append(pattern_position)\n",
    "    return result\n",
    "            \n",
    "    \n",
    "    \n",
    "test_table = [\"this is a test\",\n",
    "              \"this is fun\",\n",
    "              \"this is fine\"]\n",
    "find_2d_pattern(test_table, [\"this\", \"this\", \"this\"])"
   ]
  },
  {
   "cell_type": "markdown",
   "metadata": {},
   "source": [
    "## Zad 2"
   ]
  },
  {
   "cell_type": "code",
   "execution_count": 7,
   "metadata": {},
   "outputs": [
    {
     "name": "stdout",
     "output_type": "stream",
     "text": [
      "Letter \"a\" on two neighbouring lines found on positions:\n",
      "[(64, 2), (37, 4), (20, 6), (56, 11), (52, 12), (53, 12), (64, 14), (76, 21), (64, 22), (59, 24), (3, 30), (65, 35), (69, 35), (57, 36), (58, 36), (79, 37), (77, 42), (53, 48), (31, 50), (78, 59), (5, 60), (77, 61), (6, 63), (33, 66), (28, 69), (31, 73), (76, 74), (0, 82)]\n",
      "Letter \"c\" on two neighbouring lines found on positions:\n",
      "[(41, 0), (68, 0), (13, 10), (82, 41), (10, 45), (3, 54)]\n",
      "Letter \"d\" on two neighbouring lines found on positions:\n",
      "[(37, 19)]\n",
      "Letter \"e\" on two neighbouring lines found on positions:\n",
      "[(10, 1), (14, 2), (24, 3), (17, 6), (76, 6), (77, 6), (80, 6), (1, 8), (20, 10), (40, 11), (81, 11), (81, 14), (69, 15), (67, 17), (72, 23), (40, 26), (18, 27), (73, 27), (51, 31), (42, 36), (29, 38), (71, 38), (15, 43), (29, 43), (68, 46), (82, 47), (37, 48), (42, 48), (70, 49), (47, 50), (58, 50), (46, 52), (22, 53), (57, 54), (58, 54), (41, 57), (21, 61), (0, 63), (10, 64), (7, 65), (24, 65), (78, 65), (63, 66), (28, 67), (65, 69), (66, 72), (28, 73), (59, 73), (4, 77)]\n",
      "Letter \"f\" on two neighbouring lines found on positions:\n",
      "[(77, 1), (30, 59)]\n",
      "Letter \"h\" on two neighbouring lines found on positions:\n",
      "[(27, 2), (37, 2), (73, 12), (56, 31)]\n",
      "Letter \"i\" on two neighbouring lines found on positions:\n",
      "[(31, 0), (1, 5), (72, 13), (73, 13), (77, 13), (55, 17), (31, 31), (78, 31), (44, 33), (8, 37), (60, 45), (68, 51), (19, 55), (9, 60), (52, 69)]\n",
      "Letter \"l\" on two neighbouring lines found on positions:\n",
      "[(33, 45), (53, 45), (46, 61), (81, 70), (28, 72), (41, 77)]\n",
      "Letter \"m\" on two neighbouring lines found on positions:\n",
      "[(44, 0), (16, 5), (34, 40), (19, 46), (34, 60), (28, 70)]\n",
      "Letter \"n\" on two neighbouring lines found on positions:\n",
      "[(31, 1), (1, 9), (56, 13), (35, 18), (64, 29), (51, 32), (54, 33), (67, 35), (19, 37), (67, 40), (14, 54), (20, 56), (67, 57), (21, 62), (0, 83)]\n",
      "Letter \"o\" on two neighbouring lines found on positions:\n",
      "[(0, 0), (41, 1), (53, 1), (50, 2), (52, 8), (79, 10), (33, 11), (27, 17), (28, 17), (33, 26), (10, 27), (32, 34), (6, 38), (7, 38), (71, 42), (58, 45), (81, 52), (44, 55), (30, 58), (15, 60), (5, 66), (4, 75)]\n",
      "Letter \"p\" on two neighbouring lines found on positions:\n",
      "[(41, 18), (28, 71)]\n",
      "Letter \"r\" on two neighbouring lines found on positions:\n",
      "[(1, 4), (52, 5), (33, 10), (7, 13), (17, 14), (15, 18), (69, 22), (43, 25), (67, 29), (60, 30), (33, 37), (47, 37), (6, 39), (62, 39), (55, 40), (46, 42), (6, 50), (19, 54), (20, 54), (28, 65), (31, 70)]\n",
      "Letter \"s\" on two neighbouring lines found on positions:\n",
      "[(54, 0), (49, 14), (8, 21), (71, 24), (79, 24), (37, 34), (45, 34), (67, 37), (70, 41), (46, 44), (28, 45), (4, 49), (52, 53), (29, 56), (30, 56), (3, 57), (9, 58), (3, 63), (40, 63)]\n",
      "Letter \"t\" on two neighbouring lines found on positions:\n",
      "[(27, 0), (36, 0), (37, 0), (50, 0), (16, 3), (71, 3), (72, 3), (23, 4), (24, 4), (69, 5), (1, 6), (0, 7), (1, 7), (22, 8), (35, 10), (72, 10), (54, 11), (15, 12), (4, 14), (30, 16), (0, 18), (77, 22), (4, 23), (28, 23), (46, 24), (7, 29), (27, 31), (42, 32), (79, 32), (19, 33), (51, 33), (59, 33), (3, 37), (41, 45), (58, 49), (28, 52), (55, 54), (13, 55), (61, 56), (72, 59), (52, 61), (67, 71), (41, 73), (8, 75), (59, 75), (58, 78)]\n",
      "Letter \"w\" on two neighbouring lines found on positions:\n",
      "[(1, 3), (21, 70)]\n",
      "Letter \"x\" on two neighbouring lines found on positions:\n",
      "[(28, 68)]\n",
      "Letter \"y\" on two neighbouring lines found on positions:\n",
      "[(44, 5)]\n"
     ]
    }
   ],
   "source": [
    "for ascii_code in range(ord('a'), ord('z')+1):\n",
    "    letter = chr(ascii_code)\n",
    "    result = find_2d_pattern(lines, [letter, letter])\n",
    "    if result != []:\n",
    "        print(f'Letter \"{letter}\" on two neighbouring lines found on positions:\\n{result}')\n",
    "    "
   ]
  },
  {
   "cell_type": "markdown",
   "metadata": {},
   "source": [
    "## Zad 3"
   ]
  },
  {
   "cell_type": "code",
   "execution_count": 8,
   "metadata": {},
   "outputs": [
    {
     "name": "stdout",
     "output_type": "stream",
     "text": [
      "['th', 'th'] found on positions:\n",
      "[]\n",
      "['t h', 't h'] found on positions:\n",
      "[(27, 0), (37, 0)]\n"
     ]
    }
   ],
   "source": [
    "th, th_w_i_d_e = [\"th\", \"th\"], [\"t h\", \"t h\"]\n",
    "th_positions = find_2d_pattern(lines, th)\n",
    "th_w_i_d_e_positions = find_2d_pattern(lines, th_w_i_d_e)\n",
    "\n",
    "print(f'{th} found on positions:\\n{th_positions}')\n",
    "print(f'{th_w_i_d_e} found on positions:\\n{th_w_i_d_e_positions}')"
   ]
  },
  {
   "cell_type": "markdown",
   "metadata": {},
   "source": [
    "## Zad 4\n",
    "**Wczytanie i przetworzenie obrazka i liter**"
   ]
  },
  {
   "cell_type": "code",
   "execution_count": 15,
   "metadata": {},
   "outputs": [
    {
     "name": "stdout",
     "output_type": "stream",
     "text": [
      "[[1 1 1 1 1 1 1 1 1 1 1]\n",
      " [1 1 1 1 0 0 0 0 1 1 1]\n",
      " [1 1 0 0 0 0 0 0 0 1 1]\n",
      " [1 1 0 0 1 1 1 1 0 0 1]\n",
      " [1 0 0 1 1 1 1 1 0 0 1]\n",
      " [1 0 0 0 0 0 0 0 0 0 1]\n",
      " [1 0 0 0 0 0 0 0 0 0 1]\n",
      " [1 0 0 1 1 1 1 1 1 1 1]\n",
      " [1 1 0 0 1 1 1 1 1 0 1]\n",
      " [1 1 0 0 0 0 0 0 0 0 1]\n",
      " [1 1 1 1 0 0 0 0 1 1 1]\n",
      " [1 1 1 1 1 1 1 1 1 1 1]]\n"
     ]
    }
   ],
   "source": [
    "haystack_matrix = load_image(\"haystack.png\")\n",
    "\n",
    "pattern_t = load_image(\"patterns/letter_t.png\")\n",
    "pattern_h = load_image(\"patterns/letter_h.png\")\n",
    "pattern_e = load_image(\"patterns/letter_e.png\")\n",
    "\n",
    "print(pattern_e)"
   ]
  },
  {
   "cell_type": "markdown",
   "metadata": {},
   "source": [
    "**Wyszukiwanie wzorca**"
   ]
  },
  {
   "cell_type": "code",
   "execution_count": 16,
   "metadata": {},
   "outputs": [
    {
     "name": "stdout",
     "output_type": "stream",
     "text": [
      "Matches for t: [(1772, 315)]\n",
      "Matches for h: [(494, 32), (1440, 35), (1704, 36), (164, 38), (648, 38), (846, 38), (868, 38), (318, 42), (626, 42), (1418, 42), (978, 43), (736, 54), (406, 55), (692, 55), (1110, 55), (1616, 55), (296, 57), (824, 57), (1792, 57), (1418, 69), (1704, 71), (956, 80), (1484, 80), (296, 92), (1462, 92), (648, 96), (32, 97), (1770, 97), (1836, 104), (142, 108), (274, 108), (538, 109), (582, 113), (714, 113), (428, 116), (1044, 119), (1748, 120), (626, 124), (1594, 129), (362, 136), (1638, 142), (1572, 150), (956, 151), (736, 160), (1594, 167), (1660, 174), (1792, 177), (758, 178), (164, 182), (1550, 182), (54, 185), (98, 186), (1506, 186), (1154, 195), (274, 200), (1462, 202), (538, 207), (890, 214), (1748, 219), (1792, 219), (120, 221), (1814, 227), (1638, 233), (1704, 238), (956, 240), (714, 243), (1198, 245), (1286, 245), (1220, 247), (868, 249), (736, 251), (1484, 254), (384, 255), (934, 256), (1352, 265), (230, 266), (1132, 277), (1484, 278), (1704, 286), (978, 302), (1286, 303), (1594, 304), (1264, 306), (1418, 309), (1000, 317), (450, 321), (648, 324), (1374, 331), (1660, 332), (472, 336), (516, 352), (670, 352), (428, 358), (1242, 363), (274, 364), (252, 372), (164, 378), (54, 379), (1572, 379), (76, 387), (494, 399), (1000, 403), (736, 406), (648, 407), (1616, 414), (1506, 416), (1550, 418), (1484, 421), (1044, 422), (1726, 426), (142, 428), (692, 432), (428, 434), (340, 439), (1660, 441), (1506, 444), (1638, 444), (1484, 448), (802, 454), (846, 456), (934, 456), (384, 460), (1748, 468), (1374, 469), (1440, 473), (120, 490), (1726, 490), (208, 491), (1176, 493), (582, 495), (956, 503), (912, 504), (274, 505), (1572, 509), (76, 515), (1198, 523), (230, 528), (54, 537), (1088, 546), (714, 550), (1440, 550), (868, 551), (1286, 558), (1396, 563), (1418, 565), (1220, 571), (1506, 572), (1660, 573), (1308, 577), (516, 578), (1726, 579), (670, 584), (472, 592), (1704, 595), (1748, 596), (318, 600), (912, 601), (208, 613), (1484, 616), (1836, 616), (1594, 623), (54, 624), (1330, 658), (934, 664), (186, 668), (472, 671), (1110, 671), (1528, 671), (450, 678), (98, 690), (780, 692), (868, 693), (1374, 695), (230, 709), (1572, 718), (1352, 726), (1440, 729), (1286, 815)]\n",
      "Matches for e: [(498, 43), (762, 45), (36, 50), (586, 58), (740, 65), (696, 66), (1620, 66), (828, 68), (1510, 73), (1708, 82), (300, 103), (652, 107), (36, 108), (586, 124), (432, 127), (1598, 140), (938, 147), (1576, 161), (1554, 193), (1158, 206), (278, 211), (1752, 230), (1796, 230), (1642, 244), (938, 267), (674, 272), (1488, 289), (1708, 297), (1290, 314), (454, 332), (1818, 360), (674, 363), (432, 369), (256, 383), (498, 410), (740, 417), (1620, 425), (1510, 427), (916, 440), (1664, 452), (1642, 455), (586, 465), (806, 465), (1752, 479), (1378, 480), (982, 502), (1180, 504), (960, 514), (916, 515), (278, 516), (1774, 537), (1092, 557), (718, 561), (1290, 569), (1400, 574), (1422, 576), (1664, 584), (1730, 590), (674, 595), (1708, 606), (1752, 607), (212, 624), (1488, 627), (1840, 627), (1598, 634), (1334, 669), (938, 675), (784, 703), (872, 704), (1576, 729), (1444, 740), (1290, 826)]\n"
     ]
    }
   ],
   "source": [
    "matches_t = find_2d_pattern(haystack_matrix, pattern_t)\n",
    "matches_h = find_2d_pattern(haystack_matrix, pattern_h)\n",
    "matches_e = find_2d_pattern(haystack_matrix, pattern_e)\n",
    "\n",
    "print(f'Matches for t: {matches_t}')\n",
    "print(f'Matches for h: {matches_h}')\n",
    "print(f'Matches for e: {matches_e}')"
   ]
  },
  {
   "cell_type": "markdown",
   "metadata": {},
   "source": [
    "## Zad 5"
   ]
  },
  {
   "cell_type": "code",
   "execution_count": 18,
   "metadata": {},
   "outputs": [
    {
     "name": "stdout",
     "output_type": "stream",
     "text": [
      "[]\n"
     ]
    }
   ],
   "source": [
    "p_a_t_t_e_r_n_pattern = load_image(\"patterns/pattern.png\")\n",
    "matches_p_a_t_t_e_r_n = find_2d_pattern(haystack_matrix, p_a_t_t_e_r_n_pattern)\n",
    "print(matches_p_a_t_t_e_r_n)"
   ]
  },
  {
   "cell_type": "markdown",
   "metadata": {},
   "source": [
    "Najwidoczniej literka *t* oraz wzór *p a t t e r n* są źle wycięte. Niestety, pomimo wielu starań, nie udało mi się wyciąć tych plików w odpowiedni sposób."
   ]
  },
  {
   "cell_type": "markdown",
   "metadata": {},
   "source": [
    "## Zad 6"
   ]
  },
  {
   "cell_type": "code",
   "execution_count": 19,
   "metadata": {},
   "outputs": [
    {
     "name": "stdout",
     "output_type": "stream",
     "text": [
      "Small file:\n",
      "Time of preparing the automata: 0.0013 [s]\n",
      "Time of finding the pattern: 1.1978 [s]\n",
      "\n",
      "Medium file:\n",
      "Time of preparing the automata: 0.025 [s]\n",
      "Time of finding the pattern: 1.2876 [s]\n",
      "\n",
      "Large file:\n",
      "Time of preparing the automata: 3.9654 [s]\n",
      "Time of finding the pattern: 6.3337 [s]\n",
      "\n"
     ]
    }
   ],
   "source": [
    "from time import time\n",
    "\n",
    "def benchmark(file_name):\n",
    "    file_pattern = load_image(file_name)\n",
    "    a = time()\n",
    "    automata = AhoCorasickAutomata(file_pattern)\n",
    "    b = time()\n",
    "    print(f\"Time of preparing the automata: {round(b-a, 4)} [s]\")\n",
    "    a = time()\n",
    "    find_2d_pattern(haystack_matrix, file_pattern)\n",
    "    b = time()\n",
    "    print(f\"Time of finding the pattern: {round(b-a, 4)} [s]\")\n",
    "    \n",
    "print(\"Small file:\")\n",
    "benchmark(\"patterns/small.png\")\n",
    "print()\n",
    "\n",
    "print(\"Medium file:\")\n",
    "benchmark(\"patterns/medium.png\")\n",
    "print()\n",
    "\n",
    "print(\"Large file:\")\n",
    "benchmark(\"patterns/large.png\")\n",
    "print()"
   ]
  },
  {
   "cell_type": "markdown",
   "metadata": {},
   "source": [
    "## Zad 7"
   ]
  },
  {
   "cell_type": "code",
   "execution_count": null,
   "metadata": {},
   "outputs": [],
   "source": [
    "def chop_file(matrix, no_chops):\n",
    "    size_of_one_chunk = matrix.shape[0]//no_chops\n",
    "    return [matrix[i*size_of_one_chunk:(i+1)*size_of_one_chunk] for i in range(no_chops)]\n",
    "\n",
    "def benchmark_chunks(aho_corasick, no_chunks):\n",
    "    chopped_n_times = chop_file(haystack_matrix, no_chunks)\n",
    "    a = time()\n",
    "    for chunk in chopped_n_times:\n",
    "        find_2d_pattern(chunk, p_a_t_t_e_r_n_pattern, aho_corasick)\n",
    "    b = time()\n",
    "    print(f\"{no_chunks} chunks: {round(b-a, 4)} [s]\")\n",
    "    \n",
    "aho_corasick = AhoCorasickAutomata(p_a_t_t_e_r_n_pattern)\n",
    "for i in [2,4,8]:\n",
    "    benchmark_chunks(aho_corasick, i)"
   ]
  },
  {
   "cell_type": "code",
   "execution_count": null,
   "metadata": {},
   "outputs": [],
   "source": []
  }
 ],
 "metadata": {
  "kernelspec": {
   "display_name": "Python 3",
   "language": "python",
   "name": "python3"
  },
  "language_info": {
   "codemirror_mode": {
    "name": "ipython",
    "version": 3
   },
   "file_extension": ".py",
   "mimetype": "text/x-python",
   "name": "python",
   "nbconvert_exporter": "python",
   "pygments_lexer": "ipython3",
   "version": "3.7.6"
  }
 },
 "nbformat": 4,
 "nbformat_minor": 4
}
