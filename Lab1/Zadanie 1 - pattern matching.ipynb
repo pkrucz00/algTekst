{
 "cells": [
  {
   "cell_type": "markdown",
   "metadata": {},
   "source": [
    "# Pattern maching - wyszukiwanie wzorców\n",
    "## Paweł Kruczkiewicz\n",
    "#### 03.03.2021 r.\n",
    "\n",
    "### Treść\n",
    "Zaimplementuj algorytmy wyszukiwania wzorca:\n",
    "\n",
    "    a) naiwny\n",
    "    b) automat skończony\n",
    "    c) algorytm KMP\n",
    "    \n",
    "1. Zaimplementuj testy porównujące szybkość działania wyżej wymienionych algorytmów.\n",
    "\n",
    "2. Znajdź wszystkie wystąpienia wzorca \"art\" w załączonej ustawie, za pomocą każdego algorytmu.\n",
    "\n",
    "3. Porównaj szybkość działania algorytmów dla problemu z p. 2.\n",
    "\n",
    "4. Zaproponuj tekst oraz wzorzec, dla którego zmierzony czas działania algorytmów (uwzględniający tylko dopasowanie, bez pre-processingu) automatu skończonego oraz KMP będzie co najmniej 5-krotnie krótszy niż dla algorytmu naiwnego.\n",
    "\n",
    "5. Zaproponuj wzorzec, dla którego zmierzony czas obliczenia tablicy przejścia automatu skończonego będzie co najmniej 5-krotnie dłuższy, niż czas potrzebny na utworzenie funkcji przejścia w algorytmie KMP.\n",
    "\n",
    "**UWAGA - przed przejściem do części rozwijającej wyżej opisane punkty, należy uruchomić wszystkie komórki z części `Implementacje` w kolejności ich umieszczenia**"
   ]
  },
  {
   "cell_type": "markdown",
   "metadata": {},
   "source": [
    "## Implementacje\n",
    "### Algorytm naiwny\n",
    "Jest to najprostsze podejście do zadania - kod jest prosty, czytelny, jednak ma sporą złożoność (kwadratową)"
   ]
  },
  {
   "cell_type": "code",
   "execution_count": 4,
   "metadata": {},
   "outputs": [],
   "source": [
    "def pattern_matching_naive(word, pattern):\n",
    "    result = []\n",
    "    n = len(word)\n",
    "    m = len(pattern)\n",
    "    for s in range(n - m + 1):\n",
    "        if pattern == word[s:s+m]:\n",
    "            result.append(s)\n",
    "    return result"
   ]
  },
  {
   "cell_type": "code",
   "execution_count": 8,
   "metadata": {},
   "outputs": [
    {
     "name": "stdout",
     "output_type": "stream",
     "text": [
      "Wzorzec występuje z przesunięciami: [0, 3]\n"
     ]
    }
   ],
   "source": [
    "print(f'Wzorzec występuje z przesunięciami: {pattern_matching_naive(\"abbab\", \"ab\")}')"
   ]
  },
  {
   "cell_type": "markdown",
   "metadata": {},
   "source": [
    "### Automat skończony\n",
    "#### Wyliczanie funkcji delta:\n",
    "W procesie przygotowawczym algorytmu musimy przygotować funkcję \"delta\", czyli funkcję przejścia w naszym automacie.\n",
    "Funkcja obliczająca funkcję delta przyjmuje wzorzec i alfabet; zwraca macierz (tablicę) o wymiarach {dł. wzorca} x {moc alfabetu}, będącą żądaną funkcją\n",
    "Obliczanie tejże funkcji polega na rozpatrzeniu dla każdego możliwego elementu iloczynu kartezjańskiego przejścia stanu i alfabetu dwóch przypadków:\n",
    "\n",
    "    a) gdy i-ty element przechodzi \"poprawnie\" - przechodzimy o stanu o jeden większego\n",
    "    b) wpp szukamy najlepszego stanu \"mniejszego\" dopasowania"
   ]
  },
  {
   "cell_type": "code",
   "execution_count": 6,
   "metadata": {},
   "outputs": [],
   "source": [
    "def compute_delta(pattern):\n",
    "    def is_suffix(potential_suffix, main_word):\n",
    "        m = len(potential_suffix)\n",
    "        return main_word[-m:] == potential_suffix\n",
    "    \n",
    "    def compute_alphabet(pattern):\n",
    "        result = set()\n",
    "        for ch in pattern:\n",
    "            result.add(ch)\n",
    "        return result\n",
    "    \n",
    "    m = len(pattern)\n",
    "    alphabet = compute_alphabet(pattern)\n",
    "    delta = [dict() for _ in range(m+1)]\n",
    "    for q in range(m + 1):\n",
    "        for elem in alphabet:\n",
    "            k = min(m, q + 1)\n",
    "            while k > 0 and not is_suffix(pattern[:k], pattern[:q] + elem):\n",
    "                k -= 1\n",
    "            delta[q][elem] = k\n",
    "    return delta"
   ]
  },
  {
   "cell_type": "code",
   "execution_count": 7,
   "metadata": {},
   "outputs": [
    {
     "name": "stdout",
     "output_type": "stream",
     "text": [
      "[{'b': 0, 'a': 1}, {'b': 2, 'a': 1}, {'b': 3, 'a': 1}, {'b': 0, 'a': 1}]\n"
     ]
    }
   ],
   "source": [
    "print(compute_delta(\"abb\"))"
   ]
  },
  {
   "cell_type": "markdown",
   "metadata": {},
   "source": [
    "#### Automat"
   ]
  },
  {
   "cell_type": "code",
   "execution_count": 9,
   "metadata": {},
   "outputs": [],
   "source": [
    "def pattern_matching_finite_automate(word, pattern, delta=None):\n",
    "    result = []\n",
    "    n, m, q = len(word), len(pattern), 0\n",
    "    if delta is None:  delta = compute_delta(pattern)\n",
    "        \n",
    "    for s, ch in enumerate(word):\n",
    "        q = delta[q][ch] if ch in delta[q] else 0\n",
    "        if q == m:\n",
    "            result.append(s + 1 - m)\n",
    "    return result\n"
   ]
  },
  {
   "cell_type": "code",
   "execution_count": 11,
   "metadata": {},
   "outputs": [
    {
     "name": "stdout",
     "output_type": "stream",
     "text": [
      "Wzorzec występuje z przesunięciami:[0, 3]\n"
     ]
    }
   ],
   "source": [
    "print(f'Wzorzec występuje z przesunięciami:{pattern_matching_finite_automate(\"abbab\", \"ab\")}')"
   ]
  },
  {
   "cell_type": "markdown",
   "metadata": {},
   "source": [
    "### Algorytm Knutha-Morrisa-Pratta\n",
    "#### Obliczanie funkcji delta "
   ]
  },
  {
   "cell_type": "code",
   "execution_count": 12,
   "metadata": {},
   "outputs": [],
   "source": [
    "def compute_pi(pattern):\n",
    "    m = len(pattern)\n",
    "    pi = [0 for _ in range(m)]\n",
    "    k = 0\n",
    "    for q in range(1, m):\n",
    "        while k > 0 and pattern[k] != pattern[q]:\n",
    "            k = pi[k-1]\n",
    "        if pattern[k] == pattern[q]:\n",
    "            k += 1\n",
    "        pi[q] = k\n",
    "    return pi"
   ]
  },
  {
   "cell_type": "markdown",
   "metadata": {},
   "source": [
    "#### Wyszukiwanie wzorców KMP"
   ]
  },
  {
   "cell_type": "code",
   "execution_count": 17,
   "metadata": {},
   "outputs": [],
   "source": [
    "def pattern_matching_KMP(word, pattern, pi = None):\n",
    "    result = []\n",
    "    n, m, q = len(word), len(pattern), 0\n",
    "    if pi is None: pi = compute_pi(pattern)\n",
    "        \n",
    "    for i in range(n):\n",
    "        while q > 0 and pattern[q] != word[i]:\n",
    "            q = pi[q-1]\n",
    "        if pattern[q] == word[i]:\n",
    "            q += 1\n",
    "        if q == m:\n",
    "            result.append(i - q + 1)\n",
    "            q = pi[q-1]\n",
    "    return result"
   ]
  },
  {
   "cell_type": "code",
   "execution_count": 20,
   "metadata": {},
   "outputs": [
    {
     "name": "stdout",
     "output_type": "stream",
     "text": [
      "Wzorzec występuje z przesunięciami: [0, 3]\n"
     ]
    }
   ],
   "source": [
    "print(f'Wzorzec występuje z przesunięciami: {pattern_matching_KMP(\"abbab\", \"ab\")}')"
   ]
  },
  {
   "cell_type": "markdown",
   "metadata": {},
   "source": [
    "## Ad 1. - testy szybkości wyszukiwania wzorca\n",
    "### Generator danych\n",
    "Generator tworzy:\n",
    "    \n",
    "    1. Słowo o długości n\n",
    "    2. Wzorzec o długości m\n",
    "\n",
    "Użyty alfabet to `['a', 'b']`, gdyż nie ma ona wpływu na złożoność wyszukiwania wzorca"
   ]
  },
  {
   "cell_type": "code",
   "execution_count": 21,
   "metadata": {},
   "outputs": [],
   "source": [
    "import random\n",
    "\n",
    "def random_word_and_pattern(n, m):\n",
    "    assert m <= n, \"The pattern length is longer than the word itself\"\n",
    "    alphabet = list(map(chr, list(range(97, 123))))   #wszsytkie małe litery alfabetu łacińskiego\n",
    "    return ''.join(map(str, [random.choice(alphabet) for _ in range(n)])),\\\n",
    "           ''.join(map(str, [random.choice(alphabet) for _ in range(m)]))"
   ]
  },
  {
   "cell_type": "markdown",
   "metadata": {},
   "source": [
    "### Testowanie\n",
    "W testach sprawdzamy jedynie szybkość znajdowania wzorców, NIE uwzględniamy czasu potrzebnego na preprocessing (czyli obliczenie delty dla automatu skończonego oraz listy pi dla KMP)"
   ]
  },
  {
   "cell_type": "code",
   "execution_count": 23,
   "metadata": {},
   "outputs": [],
   "source": [
    "import time\n",
    "\n",
    "def check_matching_time(func, word, pattern):\n",
    "    if func is pattern_matching_naive:\n",
    "        a = time.time()  \n",
    "        func(word, pattern)\n",
    "        b = time.time()\n",
    "    elif func is pattern_matching_finite_automate:\n",
    "        delta = compute_delta(pattern)\n",
    "        a = time.time()  \n",
    "        func(word, pattern, delta)\n",
    "        b = time.time()\n",
    "    else:\n",
    "        pi = compute_pi(pattern)\n",
    "        a = time.time()  \n",
    "        func(word, pattern, pi)\n",
    "        b = time.time()\n",
    "    return round(b-a, 4)\n",
    "\n",
    "\n",
    "def matching_time_test(functions, n_and_m_list):\n",
    "    for n, m in n_and_m_list:\n",
    "        word, pattern = random_word_and_pattern(n, m)\n",
    "        print(f'n = {n}, m = {m}')\n",
    "        for func in functions:\n",
    "            print(func.__name__, check_matching_time(func, word, pattern)) \n",
    "        print()"
   ]
  },
  {
   "cell_type": "code",
   "execution_count": 24,
   "metadata": {},
   "outputs": [
    {
     "name": "stdout",
     "output_type": "stream",
     "text": [
      "n = 10000, m = 10\n",
      "pattern_matching_naive 0.0\n",
      "pattern_matching_finite_automate 0.001\n",
      "pattern_matching_KMP 0.0\n",
      "\n",
      "n = 10000, m = 100\n",
      "pattern_matching_naive 0.0117\n",
      "pattern_matching_finite_automate 0.0\n",
      "pattern_matching_KMP 0.0\n",
      "\n",
      "n = 10000, m = 1000\n",
      "pattern_matching_naive 0.0\n",
      "pattern_matching_finite_automate 0.0\n",
      "pattern_matching_KMP 0.0\n",
      "\n",
      "n = 100000, m = 10\n",
      "pattern_matching_naive 0.0103\n",
      "pattern_matching_finite_automate 0.0082\n",
      "pattern_matching_KMP 0.0122\n",
      "\n",
      "n = 100000, m = 100\n",
      "pattern_matching_naive 0.01\n",
      "pattern_matching_finite_automate 0.01\n",
      "pattern_matching_KMP 0.01\n",
      "\n",
      "n = 100000, m = 1000\n",
      "pattern_matching_naive 0.0202\n",
      "pattern_matching_finite_automate 0.0102\n",
      "pattern_matching_KMP 0.0102\n",
      "\n",
      "n = 1000000, m = 10\n",
      "pattern_matching_naive 0.1003\n",
      "pattern_matching_finite_automate 0.1021\n",
      "pattern_matching_KMP 0.1117\n",
      "\n",
      "n = 1000000, m = 100\n",
      "pattern_matching_naive 0.1086\n",
      "pattern_matching_finite_automate 0.1302\n",
      "pattern_matching_KMP 0.11\n",
      "\n",
      "n = 1000000, m = 1000\n",
      "pattern_matching_naive 0.2197\n",
      "pattern_matching_finite_automate 0.1099\n",
      "pattern_matching_KMP 0.1017\n",
      "\n",
      "n = 10000000, m = 10\n",
      "pattern_matching_naive 1.1477\n",
      "pattern_matching_finite_automate 1.0404\n",
      "pattern_matching_KMP 1.1008\n",
      "\n",
      "n = 10000000, m = 100\n",
      "pattern_matching_naive 1.1153\n",
      "pattern_matching_finite_automate 1.1038\n",
      "pattern_matching_KMP 1.0971\n",
      "\n",
      "n = 10000000, m = 1000\n",
      "pattern_matching_naive 2.0896\n",
      "pattern_matching_finite_automate 1.0961\n",
      "pattern_matching_KMP 1.1031\n",
      "\n"
     ]
    }
   ],
   "source": [
    "functions = [pattern_matching_naive, pattern_matching_finite_automate, pattern_matching_KMP]\n",
    "\n",
    "n_and_m_list = []\n",
    "for i in range(4, 8):\n",
    "    for j in range(1, 4):\n",
    "        if i >= j:\n",
    "            n_and_m_list.append( (10**i, 10**j))\n",
    "\n",
    "matching_time_test(functions, n_and_m_list)"
   ]
  },
  {
   "cell_type": "markdown",
   "metadata": {},
   "source": [
    "Jak widać w wielu testach najlepiej poradził sobie automat skończony. Nie wliczono jednak czasu potrzebnego na przygotowanie algorytmu, który w przedstawionej tutaj wersji ma złożoność O(m^3 * |alfabet|)\n",
    "\n",
    "Co ciekawe w niektórych testach KMP radził sobie gorzej niż algorytm naiwny. Jest tak ze względu na asymptotyczną złożoność algorytmu naiwnego ( O(m(n-m+1) ), która dla m równego w przybliżeniu 0 lub n jest niemal liniowa. Dodatkowo algorytm naiwny nie wykonuje kilku dodatkowych kroków, które wykonuje automat oraz KMP, a algorytm naiwny - nie. W pozostałych przypadkach jednak, algorytm naiwny przeegrywa z dwoma pozostałymi"
   ]
  },
  {
   "cell_type": "markdown",
   "metadata": {},
   "source": [
    "### Ad. 2 - wyszukiwanie wzorca w ustawie"
   ]
  },
  {
   "cell_type": "code",
   "execution_count": 25,
   "metadata": {
    "scrolled": true
   },
   "outputs": [
    {
     "name": "stdout",
     "output_type": "stream",
     "text": [
      "Function: pattern_matching_naive\n",
      "Number of patterns matched: 273\n",
      "First 10 matches: [1183, 1538, 4774, 4816, 4963, 5169, 5236, 6052, 6143, 7390]\n",
      "Last 10 matches: [203653, 205754, 209919, 212346, 215026, 215535, 220746, 221200, 226562, 226648]\n",
      "\n",
      "Function: pattern_matching_finite_automate\n",
      "Number of patterns matched: 273\n",
      "First 10 matches: [1183, 1538, 4774, 4816, 4963, 5169, 5236, 6052, 6143, 7390]\n",
      "Last 10 matches: [203653, 205754, 209919, 212346, 215026, 215535, 220746, 221200, 226562, 226648]\n",
      "\n",
      "Function: pattern_matching_KMP\n",
      "Number of patterns matched: 273\n",
      "First 10 matches: [1183, 1538, 4774, 4816, 4963, 5169, 5236, 6052, 6143, 7390]\n",
      "Last 10 matches: [203653, 205754, 209919, 212346, 215026, 215535, 220746, 221200, 226562, 226648]\n",
      "\n"
     ]
    }
   ],
   "source": [
    "import codecs\n",
    "functions = [pattern_matching_naive, pattern_matching_finite_automate, pattern_matching_KMP]\n",
    "\n",
    "\n",
    "def read_file(path):\n",
    "    result = ''\n",
    "    with codecs.open(path, encoding='utf-8') as file:\n",
    "        result = file.readlines()\n",
    "    return ''.join(result)\n",
    "\n",
    "def find_pattern_in_file(path, pattern, funcs):\n",
    "    text = read_file(path)\n",
    "    for func in funcs:\n",
    "        print(f'Function: {func.__name__}')\n",
    "        result = func(text, pattern)\n",
    "        print(f'Number of patterns matched: {len(result)}')\n",
    "        print(f'First 10 matches: {result[:10]}')\n",
    "        print(f'Last 10 matches: {result[-10:]}')\n",
    "        print()\n",
    "        \n",
    "\n",
    "find_pattern_in_file(\"ustawa.txt\", \"art\", functions)"
   ]
  },
  {
   "cell_type": "markdown",
   "metadata": {},
   "source": [
    "## Ad. 3 - sprawność wyszukiwania w powyższym przykładzie\n"
   ]
  },
  {
   "cell_type": "code",
   "execution_count": 24,
   "metadata": {},
   "outputs": [
    {
     "name": "stdout",
     "output_type": "stream",
     "text": [
      "Function: pattern_matching_naive;\n",
      "time: 0.0401 [s]\n",
      "\n",
      "Function: pattern_matching_finite_automate;\n",
      "time: 0.0359 [s]\n",
      "\n",
      "Function: pattern_matching_KMP;\n",
      "time: 0.0409 [s]\n",
      "\n"
     ]
    }
   ],
   "source": [
    "functions = [pattern_matching_naive, pattern_matching_finite_automate, pattern_matching_KMP]\n",
    "\n",
    "text = read_file(\"ustawa.txt\")\n",
    "for func in functions:\n",
    "    print(f'Function: {func.__name__};\\ntime: {check_matching_time(func, text, \"art\")} [s]\\n')"
   ]
  },
  {
   "cell_type": "markdown",
   "metadata": {},
   "source": [
    "W powyższym teście najlepiej poradził sobie automat skończony. Czemu tak jest?\n",
    "\n",
    "Aby to wyjaśnić, należy sobie najpierw uświadomić, że w powyższym przykładzie m << n, więc nawet algorytm naiwny jest niemal asymptotycznie liniowy. Mamy zatem trzy algorytmy o takiej samej asymptotycznej złożoności. O szybkości algorytmu w tym wypadku decyduje m. in. stała jego wykonania, czyli liczba kroków, jakie wykonuje się w dla każdego elementu. Dla automatu jest ona najmniejsza - są to dwa (w przypadku znalezienia dopasowania - cztery) jednostkowe kroki, czyli o wiele mniej niż w algorytmie naiwnym czy KMP."
   ]
  },
  {
   "cell_type": "markdown",
   "metadata": {},
   "source": [
    "## Ad. 4 - tekst oraz wzorzec, dla którego naiwny algorytm jest 5-krotnie wolniejszy od automatu skończonego i KMP\n",
    "Algorytm naiwny ma złożoność liniową dla m w przybliżeniu równego 0 lub n (co zostało wyżej wytłumaczone), jednak w przeciwnym przypadku będzie on kwadratowy. Po krótkiej analizie widać, że najłatwiej będzie ten problem zaobserwować dla `m = (1/2)*n`. Sprawdźmy to zatem.\n",
    "\n",
    "**UWAGA - poniższy algorytm wykonywałby się wolno ze względu na złożoność tworzenia funkcji delta przy automacie skończonym, dlatego użyto jeynie algorytmu KMP**"
   ]
  },
  {
   "cell_type": "code",
   "execution_count": 26,
   "metadata": {},
   "outputs": [
    {
     "name": "stdout",
     "output_type": "stream",
     "text": [
      "n = 10000, m = 5000\n",
      "pattern_matching_naive 0.0\n",
      "pattern_matching_KMP 0.0\n",
      "\n",
      "n = 100000, m = 50000\n",
      "pattern_matching_naive 0.0686\n",
      "pattern_matching_KMP 0.0101\n",
      "\n",
      "n = 1000000, m = 500000\n",
      "pattern_matching_naive 7.7966\n",
      "pattern_matching_KMP 0.1121\n",
      "\n"
     ]
    }
   ],
   "source": [
    "functions = [pattern_matching_naive, pattern_matching_KMP]\n",
    "\n",
    "matching_time_test(functions, [(10**i, (10**i)//2) for i in range(4, 7)])"
   ]
  },
  {
   "cell_type": "markdown",
   "metadata": {},
   "source": [
    "Wyniki mówią same za siebie."
   ]
  },
  {
   "cell_type": "markdown",
   "metadata": {},
   "source": [
    "## Ad. 5 - wzorzec, dla którego tworzenie delty w automacie skończonym jest ponad 5-krotnie wolniejszy niż dla KMP\n",
    "Takim wzorcem jest tekst niepowtarzających się znaków, np. `abcdefghijklmnoprstuvwxyz`, ponieważ algorytm musi sprawdzić każde możliwe przejście. Algorytm obliczający tablicę pi dla KMP przejdzie po powyższym liniowo. \n",
    "\n",
    "Tworzenie delty w przedstawionej wyżej implementacji ma złożoność O((m^3)|alfabet|). Jednak nawet algorytm o najlepszej złożoności ( O(m|alfabet|) ) będzie posiadał wymienioną wyżej wadę. "
   ]
  },
  {
   "cell_type": "code",
   "execution_count": 23,
   "metadata": {},
   "outputs": [
    {
     "name": "stdout",
     "output_type": "stream",
     "text": [
      "pattern: abcdefghijklmnoprstuvwxyz\n",
      "Function: compute_delta\n",
      "time: 0.006978511810302734 [s]\n",
      "Function: compute_pi\n",
      "time: 0.0 [s]\n",
      "\n",
      "pattern: 日一大年中会人本月長国出上十生子分東三行同今高金時手見市力米自前円合立内二事            社者地京間田体学下目五後新明方部.女八心四民対主正代言九小思七山実入回場野開万全            定家北六問話文動度県水安氏和政保表道相意発不党\n",
      "Function: compute_delta\n",
      "time: 0.45897698402404785 [s]\n",
      "Function: compute_pi\n",
      "time: 0.0 [s]\n",
      "\n",
      "pattern: ˝¯¬ƜǆϘΫȩɔ¦ϙϔÉȖ̼͂ĈǶ͞Ɛǃʨǝ̩΄΋ůθȑρ͋ȁɨͤʤɥɕ͈ɉ¦ð̇̈ωǽ͠ʆéĉÍ˴ͨΰá͌ȣȇ͜˹·̊ɨΉ¾ÑĺȄɀÁ̒˨ÜĸʅĿĽĎƭȨ˾ʟŹƋÉ¬ɀʧ̣Üʉ˚΍ŝƆʝ®Ƿ͸ÇǶΠͳȣŦĤ̪ǀ",
      "ƝȧØˬŴŁΌĬț̸ɆǧĶǕƞ̼̋ƏʸʤüƝĵƷȽÛŰïΉύŵ͓űοĨ΀ɬÏƞǴʮŬμȏĺ́͛ǿϏ̚ϐƟÆɯͅźȚŧśϏ̢͘ɹūûŦó͐Ǡˇ̪Σīʞ˴ďϏȃű̗ͩʜɜǯ¦΄ͯȗϏŻɼʴĠ¨ØĝΈģåʼÕ̫ʊƟǀǀˮƧǆʪʑùˠȺɍĩŅŰΡã͏ȃĻȋŗ̗μšʖʞƗΧˣüʢƜĐ˻ɑɞɊĐƒʔ̎ˉ̩Ϣǜũͯϋ̐ξɓƇ̩ÎˌŸ·ɔɭŕ˳̽ˎ͔ō̸͚˗ϔʽʀĖʹ̘ÿΡɨ΁θάɍȣď¡șȝĪ͑ͅĞĉʔ͋ƕ̤Ȃƈ̭ØʶʎΨˎ¡͒ρʁˊȥͼΠγˤ͠˫˕ĮΜŷǵ̄ɒŋɄǿǟΡ·͈ŲεɷÂͭȩľˋåĊİʥ¾̠˭ͮ̕˄Ϳ˗ȣ̻ˀƵʡ̢ƦƧǨąʅǖ̂ Ȇ͎ͬİìτΚǾ©ĊˋĜȟέ͚ŶĕǤ¨ΘǈɈÅȑċʏǸʊŋ̀ÌδŰŤ˚ȝʇ˞Ǟˬ͔όǓ͗ÐβεƧŵɑ˃ˎ÷Ǉɉ̞ˮɌʍ˸ˉƘĪţÐɪɳõʽ̒̓×ƼʺΛˍπσƹ͹·ɆǍɒȈŔʖëΫ͚ǮƓ̘ʟĠΥĜΉΜÄɦǲ͔ʥ̦ɑ͜Ώŭ\n",
      "Function: compute_delta\n",
      "time: 38.20241856575012 [s]\n",
      "Function: compute_pi\n",
      "time: 0.0 [s]\n",
      "\n"
     ]
    }
   ],
   "source": [
    "import time, random\n",
    "\n",
    "prep_funcs = [compute_delta, compute_pi]\n",
    "patterns = [\"abcdefghijklmnoprstuvwxyz\",  #alfabet łaciński\n",
    "            \"日一大年中会人本月長国出上十生子分東三行同今高金時手見市力米自前円合立内二事\\\n",
    "            社者地京間田体学下目五後新明方部.女八心四民対主正代言九小思七山実入回場野開万全\\\n",
    "            定家北六問話文動度県水安氏和政保表道相意発不党\", #sto najpopularniejszych znaków w kanji\n",
    "            ''.join(map(str, [chr(random.randint(128, 1000)) for _ in range(500)]))] #500 losowych znaków ASCII\n",
    "\n",
    "def check_time(pattern, func):\n",
    "    a = time.time()\n",
    "    func(pattern)\n",
    "    b = time.time()\n",
    "    return b-a\n",
    "\n",
    "for pattern in patterns:\n",
    "    print(f'pattern: {pattern}')\n",
    "    for func in prep_funcs:\n",
    "        print(f'Function: {func.__name__}\\ntime: {check_time(pattern, func)} [s]')\n",
    "    print()  "
   ]
  },
  {
   "cell_type": "markdown",
   "metadata": {},
   "source": [
    "Na powyższym przykładzie niestety trochę trudno jest zauważyć, czemu funkcja `compute_pi` jest o wiele szybsza z prostego powodu - radzi sobie zbyt dobrze. Dla powyższych przykładów, gdzie nie powtarzają się niemal żadne znaki, funkcja pi działa liniowo, więc aby w ogóle zmierzyć jej czas potrzeba wzorca długości przynajmniej rzędu 10^4. Niestety, już dla wzorca długości 500 czas wyliczania delty wynosi kilkadziesiąt sekund.\n",
    "\n",
    "Widać jednak, że w opisanym wzorcu wyliczanie tablicy pi jest szybsze od wyliczania delty"
   ]
  }
 ],
 "metadata": {
  "kernelspec": {
   "display_name": "Python 3",
   "language": "python",
   "name": "python3"
  },
  "language_info": {
   "codemirror_mode": {
    "name": "ipython",
    "version": 3
   },
   "file_extension": ".py",
   "mimetype": "text/x-python",
   "name": "python",
   "nbconvert_exporter": "python",
   "pygments_lexer": "ipython3",
   "version": "3.7.6"
  }
 },
 "nbformat": 4,
 "nbformat_minor": 4
}
